{
 "cells": [
  {
   "cell_type": "markdown",
   "id": "ae740ce9",
   "metadata": {},
   "source": [
    "Imports libraries"
   ]
  },
  {
   "cell_type": "code",
   "execution_count": 1,
   "id": "e1b44229",
   "metadata": {},
   "outputs": [],
   "source": [
    "import numpy as np\n",
    "import pandas as pd\n",
    "from pandas import *\n",
    "import re\n",
    "import math"
   ]
  },
  {
   "cell_type": "markdown",
   "id": "44b3cae9",
   "metadata": {},
   "source": [
    "Import files  -- excel"
   ]
  },
  {
   "cell_type": "code",
   "execution_count": 2,
   "id": "e7ac204d",
   "metadata": {},
   "outputs": [],
   "source": [
    "file = ('segundoejercicio.xlsx')\n",
    "file2 = ('butacas.xlsx')\n",
    "repository_data = pd.read_excel(file, skiprows= 6, usecols=[0,1,2,3,4,5])\n",
    "repository_butacas = pd.read_excel(file2)"
   ]
  },
  {
   "cell_type": "markdown",
   "id": "8d1fd721",
   "metadata": {},
   "source": [
    "Transform Data"
   ]
  },
  {
   "cell_type": "code",
   "execution_count": 3,
   "id": "835be5d7",
   "metadata": {},
   "outputs": [],
   "source": [
    "\n",
    "filter_valid_rows = repository_data.dropna(how='all')\n",
    "filter_butacas = repository_butacas.dropna(how='all')"
   ]
  },
  {
   "cell_type": "markdown",
   "id": "e3415d1e",
   "metadata": {},
   "source": [
    "Iterate data, and transform to correct format"
   ]
  },
  {
   "cell_type": "code",
   "execution_count": 4,
   "id": "a97a6051",
   "metadata": {},
   "outputs": [],
   "source": [
    "last_screen = 0\n",
    "last_cinema = 0\n",
    "remove_index_list = []\n",
    "for index, row in filter_valid_rows.iterrows():\n",
    "    #change NAN value\n",
    "    try:\n",
    "        screen = float( row['Screen'] )\n",
    "        if( math.isnan( screen ) ):\n",
    "            filter_valid_rows.at[index,'Screen'] = last_screen\n",
    "        else:\n",
    "            last_screen = screen\n",
    "\n",
    "    except:\n",
    "        remove_index_list = remove_index_list + [index]\n",
    "   \n",
    "    # remove cinema name. \n",
    "    #change NAN\n",
    "    try:\n",
    "        #remove text\n",
    "        cinema = re.findall('[0-9]+', row['Cinema'])\n",
    "        last_cinema = (cinema[0])\n",
    "        filter_valid_rows.at[index,'Cinema'] = last_cinema\n",
    "        \n",
    "    except:\n",
    "        filter_valid_rows.at[index,'Cinema'] = last_cinema\n",
    "    \n",
    "    if 'Total' == row['Film']:\n",
    "        remove_index_list = remove_index_list + [index]\n",
    "  "
   ]
  },
  {
   "cell_type": "markdown",
   "id": "f9f8dea4",
   "metadata": {},
   "source": [
    "Remove Totals"
   ]
  },
  {
   "cell_type": "code",
   "execution_count": 5,
   "id": "19426edb",
   "metadata": {},
   "outputs": [],
   "source": [
    "filter_valid_rows = filter_valid_rows.drop(filter_valid_rows.index[remove_index_list])\n",
    "   "
   ]
  },
  {
   "cell_type": "markdown",
   "id": "c5b81ce9",
   "metadata": {},
   "source": [
    "Reduce results"
   ]
  },
  {
   "cell_type": "code",
   "execution_count": 6,
   "id": "1a45182a",
   "metadata": {},
   "outputs": [],
   "source": [
    "for index, row in filter_valid_rows.iterrows():\n",
    "    film_index = ( str(row['Film']) ).find('(')\n",
    "    filter_valid_rows.at[index,'Film'] = (str(row['Film'])[0:film_index])"
   ]
  },
  {
   "cell_type": "code",
   "execution_count": 7,
   "id": "e5dca91f",
   "metadata": {},
   "outputs": [
    {
     "data": {
      "text/html": [
       "<div>\n",
       "<style scoped>\n",
       "    .dataframe tbody tr th:only-of-type {\n",
       "        vertical-align: middle;\n",
       "    }\n",
       "\n",
       "    .dataframe tbody tr th {\n",
       "        vertical-align: top;\n",
       "    }\n",
       "\n",
       "    .dataframe thead th {\n",
       "        text-align: right;\n",
       "    }\n",
       "</style>\n",
       "<table border=\"1\" class=\"dataframe\">\n",
       "  <thead>\n",
       "    <tr style=\"text-align: right;\">\n",
       "      <th></th>\n",
       "      <th>Cinema</th>\n",
       "      <th>Screen</th>\n",
       "      <th>Film</th>\n",
       "      <th>Number of Sessions</th>\n",
       "      <th>Admits</th>\n",
       "      <th>Cin Box Office Gross</th>\n",
       "    </tr>\n",
       "  </thead>\n",
       "  <tbody>\n",
       "    <tr>\n",
       "      <th>0</th>\n",
       "      <td>2200</td>\n",
       "      <td>1</td>\n",
       "      <td>Batman</td>\n",
       "      <td>48.0</td>\n",
       "      <td>1830.0</td>\n",
       "      <td>1.580150e+05</td>\n",
       "    </tr>\n",
       "    <tr>\n",
       "      <th>1</th>\n",
       "      <td>2200</td>\n",
       "      <td>1.0</td>\n",
       "      <td>Batman</td>\n",
       "      <td>18.0</td>\n",
       "      <td>419.0</td>\n",
       "      <td>3.709200e+04</td>\n",
       "    </tr>\n",
       "    <tr>\n",
       "      <th>2</th>\n",
       "      <td>2200</td>\n",
       "      <td>1.0</td>\n",
       "      <td>Muestrame al Padre</td>\n",
       "      <td>1.0</td>\n",
       "      <td>84.0</td>\n",
       "      <td>5.040000e+03</td>\n",
       "    </tr>\n",
       "    <tr>\n",
       "      <th>3</th>\n",
       "      <td>2200</td>\n",
       "      <td>1.0</td>\n",
       "      <td>Los tipos Malos</td>\n",
       "      <td>5.0</td>\n",
       "      <td>51.0</td>\n",
       "      <td>3.742000e+03</td>\n",
       "    </tr>\n",
       "    <tr>\n",
       "      <th>4</th>\n",
       "      <td>2200</td>\n",
       "      <td>1.0</td>\n",
       "      <td>Morbius</td>\n",
       "      <td>2.0</td>\n",
       "      <td>37.0</td>\n",
       "      <td>3.773000e+03</td>\n",
       "    </tr>\n",
       "    <tr>\n",
       "      <th>...</th>\n",
       "      <td>...</td>\n",
       "      <td>...</td>\n",
       "      <td>...</td>\n",
       "      <td>...</td>\n",
       "      <td>...</td>\n",
       "      <td>...</td>\n",
       "    </tr>\n",
       "    <tr>\n",
       "      <th>1389</th>\n",
       "      <td>795</td>\n",
       "      <td>10.0</td>\n",
       "      <td>El Exorcismo</td>\n",
       "      <td>5.0</td>\n",
       "      <td>46.0</td>\n",
       "      <td>1.744700e+02</td>\n",
       "    </tr>\n",
       "    <tr>\n",
       "      <th>1390</th>\n",
       "      <td>795</td>\n",
       "      <td>10.0</td>\n",
       "      <td>Casate Conmigo</td>\n",
       "      <td>4.0</td>\n",
       "      <td>37.0</td>\n",
       "      <td>1.137100e+02</td>\n",
       "    </tr>\n",
       "    <tr>\n",
       "      <th>1391</th>\n",
       "      <td>795</td>\n",
       "      <td>10.0</td>\n",
       "      <td>Morbius</td>\n",
       "      <td>3.0</td>\n",
       "      <td>16.0</td>\n",
       "      <td>1.276900e+02</td>\n",
       "    </tr>\n",
       "    <tr>\n",
       "      <th>1392</th>\n",
       "      <td>795</td>\n",
       "      <td>10.0</td>\n",
       "      <td>Uncharted fuera del mapa</td>\n",
       "      <td>1.0</td>\n",
       "      <td>6.0</td>\n",
       "      <td>1.998000e+01</td>\n",
       "    </tr>\n",
       "    <tr>\n",
       "      <th>1395</th>\n",
       "      <td>795</td>\n",
       "      <td>10.0</td>\n",
       "      <td>na</td>\n",
       "      <td>12180.0</td>\n",
       "      <td>340752.0</td>\n",
       "      <td>2.755986e+08</td>\n",
       "    </tr>\n",
       "  </tbody>\n",
       "</table>\n",
       "<p>1246 rows × 6 columns</p>\n",
       "</div>"
      ],
      "text/plain": [
       "     Cinema Screen                       Film  Number of Sessions    Admits  \\\n",
       "0      2200      1                    Batman                 48.0    1830.0   \n",
       "1      2200    1.0                    Batman                 18.0     419.0   \n",
       "2      2200    1.0        Muestrame al Padre                  1.0      84.0   \n",
       "3      2200    1.0           Los tipos Malos                  5.0      51.0   \n",
       "4      2200    1.0                   Morbius                  2.0      37.0   \n",
       "...     ...    ...                        ...                 ...       ...   \n",
       "1389    795   10.0              El Exorcismo                  5.0      46.0   \n",
       "1390    795   10.0            Casate Conmigo                  4.0      37.0   \n",
       "1391    795   10.0                   Morbius                  3.0      16.0   \n",
       "1392    795   10.0  Uncharted fuera del mapa                  1.0       6.0   \n",
       "1395    795   10.0                         na             12180.0  340752.0   \n",
       "\n",
       "      Cin Box Office Gross  \n",
       "0             1.580150e+05  \n",
       "1             3.709200e+04  \n",
       "2             5.040000e+03  \n",
       "3             3.742000e+03  \n",
       "4             3.773000e+03  \n",
       "...                    ...  \n",
       "1389          1.744700e+02  \n",
       "1390          1.137100e+02  \n",
       "1391          1.276900e+02  \n",
       "1392          1.998000e+01  \n",
       "1395          2.755986e+08  \n",
       "\n",
       "[1246 rows x 6 columns]"
      ]
     },
     "execution_count": 7,
     "metadata": {},
     "output_type": "execute_result"
    }
   ],
   "source": [
    "filter_valid_rows"
   ]
  }
 ],
 "metadata": {
  "kernelspec": {
   "display_name": "Python 3 (ipykernel)",
   "language": "python",
   "name": "python3"
  },
  "language_info": {
   "codemirror_mode": {
    "name": "ipython",
    "version": 3
   },
   "file_extension": ".py",
   "mimetype": "text/x-python",
   "name": "python",
   "nbconvert_exporter": "python",
   "pygments_lexer": "ipython3",
   "version": "3.9.7"
  }
 },
 "nbformat": 4,
 "nbformat_minor": 5
}
