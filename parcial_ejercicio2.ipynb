{
 "cells": [
  {
   "cell_type": "markdown",
   "id": "ae740ce9",
   "metadata": {},
   "source": [
    "Imports libraries"
   ]
  },
  {
   "cell_type": "code",
   "execution_count": 42,
   "id": "e1b44229",
   "metadata": {},
   "outputs": [],
   "source": [
    "import numpy as np\n",
    "import pandas as pd\n",
    "from pandas import *"
   ]
  },
  {
   "cell_type": "markdown",
   "id": "44b3cae9",
   "metadata": {},
   "source": [
    "Import files  -- excel"
   ]
  },
  {
   "cell_type": "code",
   "execution_count": 58,
   "id": "69cb959e",
   "metadata": {},
   "outputs": [],
   "source": [
    "file = ('segundoejercicio.xlsx')\n",
    "file2 = ('butacas.xlsx')\n",
    "repository_data = pd.read_excel(file, skiprows= 6, usecols=[1,2,3,4,5])\n",
    "repository_butacas = pd.read_excel(file2)"
   ]
  },
  {
   "cell_type": "markdown",
   "id": "d9a2985f",
   "metadata": {},
   "source": [
    "Transform Data"
   ]
  },
  {
   "cell_type": "code",
   "execution_count": 59,
   "id": "84541fa5",
   "metadata": {},
   "outputs": [],
   "source": [
    "\n",
    "filter_valid_rows = repository_data.dropna(how='all')\n",
    "filter_butacas = repository_butacas.dropna(how='all')"
   ]
  }
 ],
 "metadata": {
  "kernelspec": {
   "display_name": "Python 3 (ipykernel)",
   "language": "python",
   "name": "python3"
  },
  "language_info": {
   "codemirror_mode": {
    "name": "ipython",
    "version": 3
   },
   "file_extension": ".py",
   "mimetype": "text/x-python",
   "name": "python",
   "nbconvert_exporter": "python",
   "pygments_lexer": "ipython3",
   "version": "3.9.7"
  }
 },
 "nbformat": 4,
 "nbformat_minor": 5
}
